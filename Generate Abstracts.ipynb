{
 "cells": [
  {
   "cell_type": "markdown",
   "metadata": {},
   "source": [
    "## Import the necessary libraries"
   ]
  },
  {
   "cell_type": "code",
   "execution_count": 1,
   "metadata": {},
   "outputs": [],
   "source": [
    "import pandas as pd\n",
    "import numpy as np\n",
    "import langid\n",
    "import openai\n",
    "import time\n",
    "import csv\n",
    "import certifi"
   ]
  },
  {
   "cell_type": "markdown",
   "metadata": {},
   "source": [
    "## Load the data"
   ]
  },
  {
   "cell_type": "code",
   "execution_count": 2,
   "metadata": {},
   "outputs": [],
   "source": [
    "df = pd.read_csv('title_abstract_data_Large.csv', sep = ';')"
   ]
  },
  {
   "cell_type": "markdown",
   "metadata": {},
   "source": [
    "## Data cleaning"
   ]
  },
  {
   "cell_type": "code",
   "execution_count": 3,
   "metadata": {},
   "outputs": [],
   "source": [
    "df['abstractLength'] = df['abstract'].str.split().str.len()"
   ]
  },
  {
   "cell_type": "code",
   "execution_count": 4,
   "metadata": {},
   "outputs": [],
   "source": [
    "df = df.loc[(df['abstractLength'] >= 170) & (df['abstractLength'] <= 230), ]"
   ]
  },
  {
   "cell_type": "code",
   "execution_count": 5,
   "metadata": {},
   "outputs": [
    {
     "data": {
      "text/html": [
       "<div>\n",
       "<style scoped>\n",
       "    .dataframe tbody tr th:only-of-type {\n",
       "        vertical-align: middle;\n",
       "    }\n",
       "\n",
       "    .dataframe tbody tr th {\n",
       "        vertical-align: top;\n",
       "    }\n",
       "\n",
       "    .dataframe thead th {\n",
       "        text-align: right;\n",
       "    }\n",
       "</style>\n",
       "<table border=\"1\" class=\"dataframe\">\n",
       "  <thead>\n",
       "    <tr style=\"text-align: right;\">\n",
       "      <th></th>\n",
       "      <th>title</th>\n",
       "      <th>pmid</th>\n",
       "      <th>url</th>\n",
       "      <th>abstract</th>\n",
       "      <th>abstractLength</th>\n",
       "    </tr>\n",
       "  </thead>\n",
       "  <tbody>\n",
       "    <tr>\n",
       "      <th>0</th>\n",
       "      <td>Big Data and Data Science in Critical Care</td>\n",
       "      <td>29752973</td>\n",
       "      <td>https://pubmed.ncbi.nlm.nih.gov/29752973</td>\n",
       "      <td>The digitalization of the health-care system ...</td>\n",
       "      <td>178</td>\n",
       "    </tr>\n",
       "    <tr>\n",
       "      <th>1</th>\n",
       "      <td>The role of data science in healthcare advance...</td>\n",
       "      <td>34398394</td>\n",
       "      <td>https://pubmed.ncbi.nlm.nih.gov/34398394</td>\n",
       "      <td>Data science is an interdisciplinary field th...</td>\n",
       "      <td>209</td>\n",
       "    </tr>\n",
       "    <tr>\n",
       "      <th>2</th>\n",
       "      <td>Data science in cell imaging</td>\n",
       "      <td>33795377</td>\n",
       "      <td>https://pubmed.ncbi.nlm.nih.gov/33795377</td>\n",
       "      <td>Cell imaging has entered the 'Big Data' era. ...</td>\n",
       "      <td>209</td>\n",
       "    </tr>\n",
       "    <tr>\n",
       "      <th>3</th>\n",
       "      <td>Data science approaches to infectious disease ...</td>\n",
       "      <td>34802266</td>\n",
       "      <td>https://pubmed.ncbi.nlm.nih.gov/34802266</td>\n",
       "      <td>Novel data science approaches are needed to c...</td>\n",
       "      <td>204</td>\n",
       "    </tr>\n",
       "    <tr>\n",
       "      <th>4</th>\n",
       "      <td>Surgical data science - from concepts toward c...</td>\n",
       "      <td>34879287</td>\n",
       "      <td>https://pubmed.ncbi.nlm.nih.gov/34879287</td>\n",
       "      <td>Recent developments in data science in genera...</td>\n",
       "      <td>217</td>\n",
       "    </tr>\n",
       "  </tbody>\n",
       "</table>\n",
       "</div>"
      ],
      "text/plain": [
       "                                               title      pmid  \\\n",
       "0         Big Data and Data Science in Critical Care  29752973   \n",
       "1  The role of data science in healthcare advance...  34398394   \n",
       "2                       Data science in cell imaging  33795377   \n",
       "3  Data science approaches to infectious disease ...  34802266   \n",
       "4  Surgical data science - from concepts toward c...  34879287   \n",
       "\n",
       "                                        url  \\\n",
       "0  https://pubmed.ncbi.nlm.nih.gov/29752973   \n",
       "1  https://pubmed.ncbi.nlm.nih.gov/34398394   \n",
       "2  https://pubmed.ncbi.nlm.nih.gov/33795377   \n",
       "3  https://pubmed.ncbi.nlm.nih.gov/34802266   \n",
       "4  https://pubmed.ncbi.nlm.nih.gov/34879287   \n",
       "\n",
       "                                            abstract  abstractLength  \n",
       "0   The digitalization of the health-care system ...             178  \n",
       "1   Data science is an interdisciplinary field th...             209  \n",
       "2   Cell imaging has entered the 'Big Data' era. ...             209  \n",
       "3   Novel data science approaches are needed to c...             204  \n",
       "4   Recent developments in data science in genera...             217  "
      ]
     },
     "execution_count": 5,
     "metadata": {},
     "output_type": "execute_result"
    }
   ],
   "source": [
    "df = df.reset_index().drop(columns = ['index'])\n",
    "df.head()"
   ]
  },
  {
   "cell_type": "code",
   "execution_count": 6,
   "metadata": {},
   "outputs": [],
   "source": [
    "language = []\n",
    "for i in df['abstract']:\n",
    "    language.append(langid.classify(i)[0])"
   ]
  },
  {
   "cell_type": "code",
   "execution_count": 7,
   "metadata": {},
   "outputs": [],
   "source": [
    "df['language'] = language"
   ]
  },
  {
   "cell_type": "code",
   "execution_count": 8,
   "metadata": {},
   "outputs": [],
   "source": [
    "df = df.loc[df['language'] == 'en', ]"
   ]
  },
  {
   "cell_type": "code",
   "execution_count": 64,
   "metadata": {},
   "outputs": [],
   "source": [
    "df = df[['title', 'abstract']].reset_index()"
   ]
  },
  {
   "cell_type": "code",
   "execution_count": 67,
   "metadata": {},
   "outputs": [],
   "source": [
    "df.to_csv('writtenAbstracts.csv')"
   ]
  },
  {
   "cell_type": "markdown",
   "metadata": {},
   "source": [
    "## Generate abstracts"
   ]
  },
  {
   "cell_type": "code",
   "execution_count": 19,
   "metadata": {},
   "outputs": [],
   "source": [
    "openai.api_key = '#################################'"
   ]
  },
  {
   "cell_type": "code",
   "execution_count": 20,
   "metadata": {},
   "outputs": [],
   "source": [
    "abstracts = []"
   ]
  },
  {
   "cell_type": "code",
   "execution_count": 21,
   "metadata": {
    "scrolled": true
   },
   "outputs": [],
   "source": [
    "for title in df['title']:\n",
    "    completion = openai.ChatCompletion.create(\n",
    "            model = \"gpt-3.5-turbo\",\n",
    "            messages = [\n",
    "                {\"role\": \"user\", \"content\": \"write an abstract for a scientific paper of 170 to 230 words on the title: \" + title}\n",
    "            ]\n",
    "        )\n",
    "    abstracts.append(completion.choices[0].message.content)\n",
    "    time.sleep(2)"
   ]
  },
  {
   "cell_type": "code",
   "execution_count": 25,
   "metadata": {},
   "outputs": [],
   "source": [
    "titles = df['title']\n",
    "generatedAbstracts = pd.DataFrame(data = titles, columns = ['title'])"
   ]
  },
  {
   "cell_type": "code",
   "execution_count": 26,
   "metadata": {},
   "outputs": [],
   "source": [
    "generatedAbstracts['abstracts'] = abstracts"
   ]
  },
  {
   "cell_type": "code",
   "execution_count": 60,
   "metadata": {},
   "outputs": [],
   "source": [
    "generatedAbstracts.to_csv('generatedAbstracts.csv')"
   ]
  }
 ],
 "metadata": {
  "kernelspec": {
   "display_name": "Python 3",
   "language": "python",
   "name": "python3"
  },
  "language_info": {
   "codemirror_mode": {
    "name": "ipython",
    "version": 3
   },
   "file_extension": ".py",
   "mimetype": "text/x-python",
   "name": "python",
   "nbconvert_exporter": "python",
   "pygments_lexer": "ipython3",
   "version": "3.8.5"
  }
 },
 "nbformat": 4,
 "nbformat_minor": 5
}
